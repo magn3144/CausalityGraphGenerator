{
 "cells": [
  {
   "cell_type": "code",
   "execution_count": 21,
   "metadata": {
    "collapsed": true
   },
   "outputs": [],
   "source": [
    "import pandas as pd\n",
    "import numpy as np\n",
    "import matplotlib.pyplot as plt\n",
    "import seaborn as sns\n",
    "\n",
    "data = pd.read_csv(\"data_510.csv\", sep=\",\")\n",
    "long = data.set_index('Unnamed: 0').stack().to_frame().reset_index()\\\n",
    "           .rename(columns={'level_1': 'variable', 0: 'value'})\n",
    "long = long.drop([\"Unnamed: 0\"], axis = 1)\n",
    "data = data.drop([\"Unnamed: 0\"], axis = 1)"
   ]
  },
  {
   "cell_type": "code",
   "execution_count": 22,
   "metadata": {
    "collapsed": false,
    "pycharm": {
     "name": "#%%\n"
    }
   },
   "outputs": [
    {
     "name": "stdout",
     "output_type": "stream",
     "text": [
      "\n",
      "---A---\n",
      "mean: 1.3765394413711143\n",
      "std: 1.8986537427850416\n",
      "corr with B: -0.10144640302789483\n",
      "corr with C: 0.5204651714146851\n",
      "corr with D: 0.8992934354859883\n",
      "\n",
      "---B---\n",
      "mean: 0.16267503613041234\n",
      "std: 0.6111682236368067\n",
      "corr with A: -0.10144640302789483\n",
      "corr with C: -0.08037953995390523\n",
      "corr with D: -0.3849599824480891\n",
      "\n",
      "---C---\n",
      "mean: 0.39185801595646763\n",
      "std: 1.0666641262607672\n",
      "corr with A: 0.5204651714146851\n",
      "corr with B: -0.08037953995390522\n",
      "corr with D: 0.4720957138214843\n",
      "\n",
      "---D---\n",
      "mean: 1.7838644052407013\n",
      "std: 2.102160457276018\n",
      "corr with A: 0.8992934354859883\n",
      "corr with B: -0.3849599824480891\n",
      "corr with C: 0.4720957138214843\n"
     ]
    }
   ],
   "source": [
    "for node in data.keys():\n",
    "    print(f\"\\n---{node}---\")\n",
    "    print(f\"mean: {np.mean(data[node])}\")\n",
    "    print(f\"std: {np.std(data[node])}\")\n",
    "    for node_2 in data.keys():\n",
    "        a, b = np.array(data[node].tolist()), np.array(data[node_2].tolist())\n",
    "        ab = np.stack((a,b))\n",
    "        cov = np.corrcoef(ab)\n",
    "        if node != node_2:\n",
    "            print(f\"corr with {node_2}: {cov[0,1]}\")"
   ]
  },
  {
   "cell_type": "code",
   "execution_count": 6,
   "metadata": {},
   "outputs": [
    {
     "data": {
      "text/plain": "<Figure size 1008x1008 with 4 Axes>",
      "image/png": "[encoded data removed]"
     },
     "metadata": {
      "needs_background": "light"
     },
     "output_type": "display_data"
    }
   ],
   "source": [
    "fig, axs = plt.subplots(4, figsize=(14,14))\n",
    "for i, node in enumerate(data.keys()):\n",
    "    axs[i].title.set_text(f\"{node}\")\n",
    "    axs[i].hist(data[node], bins=30)\n",
    "plt.show()"
   ]
  },
  {
   "cell_type": "code",
   "execution_count": 18,
   "outputs": [
    {
     "data": {
      "text/plain": "    variable     value\n0          A  0.822987\n1          B -0.273670\n2          C  2.161439\n3          D  2.096656\n4          A  5.671705\n..       ...       ...\n395        D  2.877161\n396        A -1.262539\n397        B  1.610901\n398        C  1.213952\n399        D -2.873440\n\n[400 rows x 2 columns]",
      "text/html": "<div>\n<style scoped>\n    .dataframe tbody tr th:only-of-type {\n        vertical-align: middle;\n    }\n\n    .dataframe tbody tr th {\n        vertical-align: top;\n    }\n\n    .dataframe thead th {\n        text-align: right;\n    }\n</style>\n<table border=\"1\" class=\"dataframe\">\n  <thead>\n    <tr style=\"text-align: right;\">\n      <th></th>\n      <th>variable</th>\n      <th>value</th>\n    </tr>\n  </thead>\n  <tbody>\n    <tr>\n      <th>0</th>\n      <td>A</td>\n      <td>0.822987</td>\n    </tr>\n    <tr>\n      <th>1</th>\n      <td>B</td>\n      <td>-0.273670</td>\n    </tr>\n    <tr>\n      <th>2</th>\n      <td>C</td>\n      <td>2.161439</td>\n    </tr>\n    <tr>\n      <th>3</th>\n      <td>D</td>\n      <td>2.096656</td>\n    </tr>\n    <tr>\n      <th>4</th>\n      <td>A</td>\n      <td>5.671705</td>\n    </tr>\n    <tr>\n      <th>...</th>\n      <td>...</td>\n      <td>...</td>\n    </tr>\n    <tr>\n      <th>395</th>\n      <td>D</td>\n      <td>2.877161</td>\n    </tr>\n    <tr>\n      <th>396</th>\n      <td>A</td>\n      <td>-1.262539</td>\n    </tr>\n    <tr>\n      <th>397</th>\n      <td>B</td>\n      <td>1.610901</td>\n    </tr>\n    <tr>\n      <th>398</th>\n      <td>C</td>\n      <td>1.213952</td>\n    </tr>\n    <tr>\n      <th>399</th>\n      <td>D</td>\n      <td>-2.873440</td>\n    </tr>\n  </tbody>\n</table>\n<p>400 rows × 2 columns</p>\n</div>"
     },
     "execution_count": 18,
     "metadata": {},
     "output_type": "execute_result"
    }
   ],
   "source": [
    "long"
   ],
   "metadata": {
    "collapsed": false,
    "pycharm": {
     "name": "#%%\n"
    }
   }
  },
  {
   "cell_type": "code",
   "execution_count": null,
   "outputs": [],
   "source": [],
   "metadata": {
    "collapsed": false,
    "pycharm": {
     "name": "#%%\n"
    }
   }
  }
 ],
 "metadata": {
  "kernelspec": {
   "display_name": "Python 3",
   "language": "python",
   "name": "python3"
  },
  "language_info": {
   "codemirror_mode": {
    "name": "ipython",
    "version": 3
   },
   "file_extension": ".py",
   "mimetype": "text/x-python",
   "name": "python",
   "nbconvert_exporter": "python",
   "pygments_lexer": "ipython3",
   "version": "3.8.5"
  }
 },
 "nbformat": 4,
 "nbformat_minor": 0
}