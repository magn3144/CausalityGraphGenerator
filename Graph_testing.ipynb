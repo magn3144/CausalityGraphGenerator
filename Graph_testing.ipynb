{
 "cells": [
  {
   "cell_type": "code",
   "execution_count": 6,
   "metadata": {
    "collapsed": true
   },
   "outputs": [],
   "source": [
    "import pandas as pd\n",
    "import numpy as np\n",
    "\n",
    "data = pd.read_csv(\"data_510.csv\", sep=\",\")\n",
    "data = data.drop([\"Unnamed: 0\"], axis=1)"
   ]
  },
  {
   "cell_type": "code",
   "execution_count": 7,
   "metadata": {
    "collapsed": false,
    "pycharm": {
     "name": "#%%\n"
    }
   },
   "outputs": [
    {
     "data": {
      "text/plain": [
       "Index(['A', 'B', 'C', 'D'], dtype='object')"
      ]
     },
     "execution_count": 7,
     "metadata": {},
     "output_type": "execute_result"
    }
   ],
   "source": [
    "data.keys()"
   ]
  },
  {
   "cell_type": "code",
   "execution_count": 10,
   "metadata": {
    "collapsed": false,
    "pycharm": {
     "name": "#%%\n"
    }
   },
   "outputs": [
    {
     "name": "stdout",
     "output_type": "stream",
     "text": [
      "\n",
      "---A---\n",
      "mean: 1.3765394413711143\n",
      "std: 1.8986537427850416\n",
      "\n",
      "---B---\n",
      "mean: 0.16267503613041234\n",
      "std: 0.6111682236368067\n",
      "\n",
      "---C---\n",
      "mean: 0.39185801595646763\n",
      "std: 1.0666641262607672\n",
      "\n",
      "---D---\n",
      "mean: 1.7838644052407013\n",
      "std: 2.102160457276018\n"
     ]
    }
   ],
   "source": [
    "for node in data.keys():\n",
    "    print(f\"\\n---{node}---\")\n",
    "    print(f\"mean: {np.mean(data[node])}\")\n",
    "    print(f\"std: {np.std(data[node])}\")"
   ]
  },
  {
   "cell_type": "code",
   "execution_count": null,
   "metadata": {
    "collapsed": false,
    "pycharm": {
     "name": "#%%\n"
    }
   },
   "outputs": [],
   "source": []
  }
 ],
 "metadata": {
  "kernelspec": {
   "display_name": "Python 3",
   "language": "python",
   "name": "python3"
  },
  "language_info": {
   "codemirror_mode": {
    "name": "ipython",
    "version": 2
   },
   "file_extension": ".py",
   "mimetype": "text/x-python",
   "name": "python",
   "nbconvert_exporter": "python",
   "pygments_lexer": "ipython2",
   "version": "3.9.12"
  }
 },
 "nbformat": 4,
 "nbformat_minor": 0
}
