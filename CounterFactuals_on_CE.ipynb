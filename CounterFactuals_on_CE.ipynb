{
 "cells": [
  {
   "cell_type": "code",
   "execution_count": 3,
   "id": "facabea2",
   "metadata": {},
   "outputs": [],
   "source": [
    "import numpy as np\n",
    "import scipy.stats as stats\n",
    "import matplotlib.pyplot as plt\n",
    "import seaborn as sns\n",
    "import pandas as pd"
   ]
  },
  {
   "cell_type": "code",
   "execution_count": 18,
   "id": "ed0555c7",
   "metadata": {},
   "outputs": [
    {
     "name": "stdout",
     "output_type": "stream",
     "text": [
      "Index(['A', 'B', 'C', 'D', 'E', 'F'], dtype='object')\n",
      "Node A has a mean of 1.3698896094718327 and a sd of 1.1014896644832854.\n",
      "Node B has a mean of 0.5407399611575715 and a sd of 2.236391824250834.\n",
      "Node C has a mean of -0.26510669570840895 and a sd of 1.5564606014451707.\n",
      "Node D has a mean of 1.0131585296288732 and a sd of 1.2517031317247211.\n",
      "Node E has a mean of 0.005106695708408988 and a sd of 0.18387075189369084.\n",
      "Node F has a mean of -0.7479583698267538 and a sd of 0.889727881219403.\n",
      "1.3698896094718327\n"
     ]
    }
   ],
   "source": [
    "data_noIntervention = pd.read_csv(\"no_interventions.csv\", sep=\",\")\n",
    "data_noIntervention = data_noIntervention.drop([\"Unnamed: 0\"], axis=1)\n",
    "\n",
    "\n",
    "print(data_noIntervention.columns)\n",
    "for node in data_noIntervention:\n",
    "    print(\"Node {} has a mean of {} and a sd of {}.\".format(node, np.mean(data_noIntervention[node]), np.std(data_noIntervention[node])))\n",
    "print(np.mean(data_noIntervention['A']))\n",
    "\n",
    "mean_B, std_B = np.mean(data_noIntervention['B']), np.std(data_noIntervention['B'])\n",
    "mean_E, std_E = np.mean(data_noIntervention['E']), np.std(data_noIntervention['E'])"
   ]
  },
  {
   "cell_type": "code",
   "execution_count": 21,
   "id": "63e793f8",
   "metadata": {},
   "outputs": [],
   "source": [
    "### Define the following variables with their respective distributions\n",
    "B = stats.norm(loc=mean_B, scale=std_B)\n",
    "C = stats.multinomial()\n",
    "E = stats.norm(loc=mean_E, scale=std_E)\n"
   ]
  },
  {
   "cell_type": "code",
   "execution_count": null,
   "id": "08504d7a",
   "metadata": {},
   "outputs": [],
   "source": []
  },
  {
   "cell_type": "code",
   "execution_count": null,
   "id": "0d5d2fb8",
   "metadata": {},
   "outputs": [],
   "source": []
  },
  {
   "cell_type": "code",
   "execution_count": null,
   "id": "bf12f008",
   "metadata": {},
   "outputs": [],
   "source": []
  }
 ],
 "metadata": {
  "kernelspec": {
   "display_name": "Python 3 (ipykernel)",
   "language": "python",
   "name": "python3"
  },
  "language_info": {
   "codemirror_mode": {
    "name": "ipython",
    "version": 3
   },
   "file_extension": ".py",
   "mimetype": "text/x-python",
   "name": "python",
   "nbconvert_exporter": "python",
   "pygments_lexer": "ipython3",
   "version": "3.9.7"
  }
 },
 "nbformat": 4,
 "nbformat_minor": 5
}
