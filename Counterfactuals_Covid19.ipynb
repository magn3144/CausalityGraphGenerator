{
 "cells": [
  {
   "cell_type": "code",
   "execution_count": 2,
   "id": "2a9c212c",
   "metadata": {},
   "outputs": [],
   "source": [
    "import numpy as np\n",
    "import scipy.stats as stats\n",
    "import matplotlib.pyplot as plt\n",
    "import seaborn as sns"
   ]
  },
  {
   "cell_type": "code",
   "execution_count": 8,
   "id": "f6ee1b97",
   "metadata": {},
   "outputs": [],
   "source": [
    "### Define the following binomial discrete random variables\n",
    "B1=stats.binom(1,1/100)\n",
    "B2=stats.binom(1,1/1000)\n",
    "B3=stats.binom(1,1/2)"
   ]
  },
  {
   "cell_type": "code",
   "execution_count": 9,
   "id": "e55a257c",
   "metadata": {},
   "outputs": [],
   "source": [
    "def sample(N,forcep=None):\n",
    "    Np=B1.rvs(N)\n",
    "    Ns=B2.rvs(N)\n",
    "    Nc=B3.rvs(N)\n",
    "    P=1\n",
    "    S=1\n",
    "    V=(Np*P+Ns*S)\n",
    "    C=((V>0)-Nc)>0\n",
    "    out=np.array((V,C))\n",
    "    if not forcep is None:\n",
    "        P2=np.ones(N)*forcep\n",
    "        V2=(Np*P2+Ns*S)\n",
    "        C2=((V2>0)-Nc)>0\n",
    "        out=np.concatenate((out[None],np.array((V2,C2))[None]),axis=0)\n",
    "    return out"
   ]
  },
  {
   "cell_type": "code",
   "execution_count": 3,
   "id": "affe50e9",
   "metadata": {},
   "outputs": [
    {
     "name": "stdout",
     "output_type": "stream",
     "text": [
      "[0.90992012 0.09007988]\n"
     ]
    },
    {
     "data": {
      "image/png": "[encoded data removed]",
      "text/plain": [
       "<Figure size 432x288 with 2 Axes>"
      ]
     },
     "metadata": {
      "needs_background": "light"
     },
     "output_type": "display_data"
    }
   ],
   "source": [
    "x=sample(int(1e7),forcep=0)\n",
    "freqc=np.array([(x[0][-1]==i).sum() for i in np.unique(x[0][-1])])/len(x[0][-1])\n",
    "\n",
    "cdot=x[1][-1][(x[0][-1]==1)]\n",
    "freqcdot=np.array([(cdot==i).sum() for i in np.unique(cdot)])/len(cdot)\n",
    "fig=plt.figure()\n",
    "\n",
    "plt.subplot(1,2,1)\n",
    "ax=plt.gca()\n",
    "plt.bar((0,1),freqc)\n",
    "#ax.set_xlabel('Covid-19')\n",
    "ax.set_title('Marginal distribution')\n",
    "ax.set_ylabel('frequency')\n",
    "ax.set_xticks((0,1))\n",
    "ax.set_xticklabels(('Healthy','Covid-19'))\n",
    "plt.ylim(0,1)\n",
    "\n",
    "plt.subplot(1,2,2)\n",
    "ax=plt.gca()\n",
    "plt.bar((0,1),freqcdot)\n",
    "#ax.set_xlabel('Covid-19')\n",
    "ax.set_title('Counterfactual distribution')\n",
    "ax.set_ylabel('frequency')\n",
    "ax.set_xticks((0,1))\n",
    "ax.set_xticklabels(('Healthy','Covid-19'));  \n",
    "plt.ylim(0,1)\n",
    "print(freqcdot)"
   ]
  }
 ],
 "metadata": {
  "kernelspec": {
   "display_name": "Python 3 (ipykernel)",
   "language": "python",
   "name": "python3"
  },
  "language_info": {
   "codemirror_mode": {
    "name": "ipython",
    "version": 3
   },
   "file_extension": ".py",
   "mimetype": "text/x-python",
   "name": "python",
   "nbconvert_exporter": "python",
   "pygments_lexer": "ipython3",
   "version": "3.9.7"
  }
 },
 "nbformat": 4,
 "nbformat_minor": 5
}
